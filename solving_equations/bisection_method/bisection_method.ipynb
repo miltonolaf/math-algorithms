{
  "nbformat": 4,
  "nbformat_minor": 0,
  "metadata": {
    "colab": {
      "name": "bisection_method.ipynb",
      "version": "0.3.2",
      "provenance": [],
      "collapsed_sections": [],
      "include_colab_link": true
    },
    "kernelspec": {
      "name": "python3",
      "display_name": "Python 3"
    }
  },
  "cells": [
    {
      "cell_type": "markdown",
      "metadata": {
        "id": "view-in-github",
        "colab_type": "text"
      },
      "source": [
        "<a href=\"https://colab.research.google.com/github/miltonolaf/snippets.ipynb/blob/master/bisection_method/bisection_method.ipynb\" target=\"_parent\"><img src=\"https://colab.research.google.com/assets/colab-badge.svg\" alt=\"Open In Colab\"/></a>"
      ]
    },
    {
      "metadata": {
        "id": "tiZnErQNGr_p",
        "colab_type": "text"
      },
      "cell_type": "markdown",
      "source": [
        "# Bisection method"
      ]
    },
    {
      "metadata": {
        "id": "jpudXcARZ2JK",
        "colab_type": "code",
        "colab": {}
      },
      "cell_type": "code",
      "source": [
        "import math"
      ],
      "execution_count": 0,
      "outputs": []
    },
    {
      "metadata": {
        "id": "uD_EqC9AHBjj",
        "colab_type": "code",
        "colab": {}
      },
      "cell_type": "code",
      "source": [
        "def bisection(eq, low, up, error=0.00001):\n",
        "  \n",
        "  if eq(low) * eq(up) > 0:\n",
        "    raise Exception('Bisection not possible')  \n",
        "  \n",
        "  prev_Xr, Xr = 0, 0\n",
        "  Xl, Xu = low, up\n",
        "  \n",
        "  i = 1\n",
        "  while( Xu - Xl > error ):\n",
        "    prev_Xr = Xr\n",
        "    \n",
        "    FnL, FnU = eq(Xl), eq(Xu)\n",
        "    Xr = ( Xl + Xu ) / 2.0\n",
        "    f = eq(Xr)\n",
        "    \n",
        "    Ea = math.fabs(( ( Xr - prev_Xr ) / Xr ) * 100)\n",
        "    \n",
        "    if f * FnL > 0: \n",
        "      Xl = Xr\n",
        "    else: \n",
        "      Xu = Xr\n",
        "    \n",
        "    print(\"%i | %f | %f | %f | %f | %f | %f\" % (i, Xl, Xu, Xr, FnL, f, Ea))\n",
        "    \n",
        "    i += 1"
      ],
      "execution_count": 0,
      "outputs": []
    },
    {
      "metadata": {
        "id": "PV7zndgFN9U8",
        "colab_type": "code",
        "colab": {}
      },
      "cell_type": "code",
      "source": [
        "def fn(x):\n",
        " return x - 2**(-x)"
      ],
      "execution_count": 0,
      "outputs": []
    },
    {
      "metadata": {
        "id": "f30B3iwYRIh7",
        "colab_type": "code",
        "outputId": "8ed7bbeb-b4d0-4492-896c-40efb68c6b79",
        "colab": {
          "base_uri": "https://localhost:8080/",
          "height": 323
        }
      },
      "cell_type": "code",
      "source": [
        "method = bisection(fn, 0, 1)"
      ],
      "execution_count": 14,
      "outputs": [
        {
          "output_type": "stream",
          "text": [
            "1 | 0.500000 | 1.000000 | 0.500000 | -1.000000 | -0.207107 | 100.000000\n",
            "2 | 0.500000 | 0.750000 | 0.750000 | -0.207107 | 0.155396 | 33.333333\n",
            "3 | 0.625000 | 0.750000 | 0.625000 | -0.207107 | -0.023420 | 20.000000\n",
            "4 | 0.625000 | 0.687500 | 0.687500 | -0.023420 | 0.066571 | 9.090909\n",
            "5 | 0.625000 | 0.656250 | 0.656250 | -0.023420 | 0.021725 | 4.761905\n",
            "6 | 0.640625 | 0.656250 | 0.640625 | -0.023420 | -0.000810 | 2.439024\n",
            "7 | 0.640625 | 0.648438 | 0.648438 | -0.000810 | 0.010467 | 1.204819\n",
            "8 | 0.640625 | 0.644531 | 0.644531 | -0.000810 | 0.004831 | 0.606061\n",
            "9 | 0.640625 | 0.642578 | 0.642578 | -0.000810 | 0.002011 | 0.303951\n",
            "10 | 0.640625 | 0.641602 | 0.641602 | -0.000810 | 0.000601 | 0.152207\n",
            "11 | 0.641113 | 0.641602 | 0.641113 | -0.000810 | -0.000105 | 0.076161\n",
            "12 | 0.641113 | 0.641357 | 0.641357 | -0.000105 | 0.000248 | 0.038066\n",
            "13 | 0.641113 | 0.641235 | 0.641235 | -0.000105 | 0.000072 | 0.019037\n",
            "14 | 0.641174 | 0.641235 | 0.641174 | -0.000105 | -0.000017 | 0.009519\n",
            "15 | 0.641174 | 0.641205 | 0.641205 | -0.000017 | 0.000028 | 0.004759\n",
            "16 | 0.641174 | 0.641190 | 0.641190 | -0.000017 | 0.000006 | 0.002380\n",
            "17 | 0.641182 | 0.641190 | 0.641182 | -0.000017 | -0.000005 | 0.001190\n"
          ],
          "name": "stdout"
        }
      ]
    }
  ]
}