{
  "nbformat": 4,
  "nbformat_minor": 0,
  "metadata": {
    "colab": {
      "name": "newtons_method.ipynb",
      "version": "0.3.2",
      "provenance": [],
      "collapsed_sections": [],
      "include_colab_link": true
    },
    "kernelspec": {
      "name": "python3",
      "display_name": "Python 3"
    }
  },
  "cells": [
    {
      "cell_type": "markdown",
      "metadata": {
        "id": "view-in-github",
        "colab_type": "text"
      },
      "source": [
        "<a href=\"https://colab.research.google.com/github/miltonolaf/snippets.ipynb/blob/master/newtons_method/newtons_method.ipynb\" target=\"_parent\"><img src=\"https://colab.research.google.com/assets/colab-badge.svg\" alt=\"Open In Colab\"/></a>"
      ]
    },
    {
      "metadata": {
        "id": "3MHMhRLNMWsv",
        "colab_type": "code",
        "colab": {}
      },
      "cell_type": "code",
      "source": [
        "import matplotlib.pyplot as plt\n",
        "from math import *"
      ],
      "execution_count": 0,
      "outputs": []
    },
    {
      "metadata": {
        "id": "Z6gHK8RKMiGj",
        "colab_type": "code",
        "colab": {}
      },
      "cell_type": "code",
      "source": [
        "def f(x):\n",
        "    return (2 * x) * cos(2 * x) - (x - 2)**2\n",
        "\n",
        "def df(x):\n",
        "  return (-4 * x) * sin(2*x) + (2*cos(2*x)) - 2*(x-2)"
      ],
      "execution_count": 0,
      "outputs": []
    },
    {
      "metadata": {
        "id": "9h9rMNzmZ-1w",
        "colab_type": "text"
      },
      "cell_type": "markdown",
      "source": [
        "Visualizing in the graph"
      ]
    },
    {
      "metadata": {
        "id": "1sXICzHNNdhF",
        "colab_type": "code",
        "colab": {
          "base_uri": "https://localhost:8080/",
          "height": 351
        },
        "outputId": "4a991eb8-f86e-45d6-cf84-35995c6e6716"
      },
      "cell_type": "code",
      "source": [
        "x = range(-10, 15)\n",
        "\n",
        "plt.plot(x, [f(i) for i in x])\n",
        "\n",
        "plt.axhline(0, color=\"black\")\n",
        "plt.axvline(0, color=\"black\")\n",
        "\n",
        "plt.xlim(-2, 10)\n",
        "plt.ylim(-2, 10)\n",
        "\n",
        "plt.show()"
      ],
      "execution_count": 41,
      "outputs": [
        {
          "output_type": "display_data",
          "data": {
            "image/png": "[encoded data removed]",
            "text/plain": [
              "<Figure size 576x396 with 1 Axes>"
            ]
          },
          "metadata": {
            "tags": []
          }
        }
      ]
    },
    {
      "metadata": {
        "id": "mbRU472MKobT",
        "colab_type": "code",
        "colab": {}
      },
      "cell_type": "code",
      "source": [
        "def Ea(x_c, x_p):\n",
        "    return abs(((x_c - x_p) / x_c) * 100)\n",
        " \n",
        "def newtons_method(f, df, x_i, tolerance):\n",
        "    error = 100\n",
        "    i = 1\n",
        "    while error > tolerance:\n",
        "      x_p = x_i\n",
        "      \n",
        "      x_i = x_i - f(x_i)/df(x_i)\n",
        "      error = Ea(x_i, x_p)\n",
        "      \n",
        "      print('%i | %f | %f' % (i, x_i, error))\n",
        "      i += 1\n",
        "\n",
        "    print('Root is at: %f' % x_i)"
      ],
      "execution_count": 0,
      "outputs": []
    },
    {
      "metadata": {
        "id": "p4nLclT1Ks0Z",
        "colab_type": "code",
        "colab": {
          "base_uri": "https://localhost:8080/",
          "height": 215
        },
        "outputId": "bd3fc475-fbe3-46a9-e649-6a8b36e4581f"
      },
      "cell_type": "code",
      "source": [
        "x_is = [2, 4]\n",
        "for x_i in x_is:\n",
        "    print('For: %i' % x_i)\n",
        "    newtons_method(f, df, x_i, 0.01)"
      ],
      "execution_count": 78,
      "outputs": [
        {
          "output_type": "stream",
          "text": [
            "For: 2\n",
            "1 | 2.550769 | 21.592279\n",
            "2 | 2.371359 | 7.565734\n",
            "3 | 2.370687 | 0.028323\n",
            "4 | 2.370687 | 0.000006\n",
            "Root is at: 2.370687\n",
            "For: 4\n",
            "1 | 3.743349 | 6.856179\n",
            "2 | 3.722390 | 0.563072\n",
            "3 | 3.722113 | 0.007434\n",
            "Root is at: 3.722113\n"
          ],
          "name": "stdout"
        }
      ]
    }
  ]
}