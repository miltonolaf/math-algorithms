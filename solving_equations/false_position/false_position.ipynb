{
  "nbformat": 4,
  "nbformat_minor": 0,
  "metadata": {
    "colab": {
      "name": "false_position.ipynb",
      "version": "0.3.2",
      "provenance": [],
      "collapsed_sections": [],
      "include_colab_link": true
    },
    "kernelspec": {
      "name": "python3",
      "display_name": "Python 3"
    }
  },
  "cells": [
    {
      "cell_type": "markdown",
      "metadata": {
        "id": "view-in-github",
        "colab_type": "text"
      },
      "source": [
        "<a href=\"https://colab.research.google.com/github/miltonolaf/snippets.ipynb/blob/master/false_position/false_position.ipynb\" target=\"_parent\"><img src=\"https://colab.research.google.com/assets/colab-badge.svg\" alt=\"Open In Colab\"/></a>"
      ]
    },
    {
      "metadata": {
        "id": "hxKKLaGVKOlq",
        "colab_type": "text"
      },
      "cell_type": "markdown",
      "source": [
        "# False position method\n",
        "![equation](http://1.bp.blogspot.com/-OGqfrUfX01c/VHlQ5C6oZWI/AAAAAAAAACU/zZy2erBUrTw/s1600/Met%2BFalsa%2BPos%2B2.jpg)"
      ]
    },
    {
      "metadata": {
        "id": "XTr9gQwPID2_",
        "colab_type": "code",
        "colab": {}
      },
      "cell_type": "code",
      "source": [
        "import math"
      ],
      "execution_count": 0,
      "outputs": []
    },
    {
      "metadata": {
        "id": "fHSAxOsVIOn8",
        "colab_type": "code",
        "colab": {}
      },
      "cell_type": "code",
      "source": [
        "def false_position(eq, low, up, error=0.00001):\n",
        "  \n",
        "  if eq(low) * eq(up) > 0:\n",
        "    raise Exception('False position not possible')  \n",
        "  \n",
        "  prev_Xr, Xr = 0, 0\n",
        "  Xl, Xu = low, up\n",
        "  Ea = 100\n",
        "  \n",
        "  i = 1\n",
        "  while( Ea > error ):\n",
        "    prev_Xr = Xr\n",
        "    \n",
        "    FnL, FnU = eq(Xl), eq(Xu)\n",
        "    Xr = Xu - ( ( FnU * ( Xl - Xu ) ) / (FnL - FnU) )\n",
        "    f = eq(Xr)\n",
        "    \n",
        "    Ea = math.fabs(( ( Xr - prev_Xr ) / Xr ) * 100)\n",
        "    \n",
        "    if f * FnL > 0: \n",
        "      Xl = Xr\n",
        "    else: \n",
        "      Xu = Xr\n",
        "    \n",
        "    print(\"%i | %f | %f | %f | %f | %f | %f\" % (i, Xl, Xu, Xr, FnL, f, Ea))\n",
        "    \n",
        "    i += 1"
      ],
      "execution_count": 0,
      "outputs": []
    },
    {
      "metadata": {
        "id": "1vFAoLNHIUeZ",
        "colab_type": "code",
        "colab": {}
      },
      "cell_type": "code",
      "source": [
        "def fn(x):\n",
        " return (2 * x) * math.cos(2 * x) - (x + 1) ** 2"
      ],
      "execution_count": 0,
      "outputs": []
    },
    {
      "metadata": {
        "id": "_aiO4-SsIVbB",
        "colab_type": "code",
        "outputId": "b78c6ee5-7fe8-40b0-a001-a5d115e93121",
        "colab": {
          "base_uri": "https://localhost:8080/",
          "height": 179
        }
      },
      "cell_type": "code",
      "source": [
        "method = false_position(fn, -3, -2)"
      ],
      "execution_count": 4,
      "outputs": [
        {
          "output_type": "stream",
          "text": [
            "1 | -3.000000 | -2.141933 | -2.141933 | -9.761022 | 0.476053 | 100.000000\n",
            "2 | -3.000000 | -2.181836 | -2.181836 | -9.761022 | 0.094300 | 1.828851\n",
            "3 | -3.000000 | -2.189664 | -2.189664 | -9.761022 | 0.016463 | 0.357522\n",
            "4 | -3.000000 | -2.191029 | -2.191029 | -9.761022 | 0.002801 | 0.062273\n",
            "5 | -3.000000 | -2.191261 | -2.191261 | -9.761022 | 0.000474 | 0.010590\n",
            "6 | -3.000000 | -2.191300 | -2.191300 | -9.761022 | 0.000080 | 0.001793\n",
            "7 | -3.000000 | -2.191307 | -2.191307 | -9.761022 | 0.000014 | 0.000303\n",
            "8 | -3.000000 | -2.191308 | -2.191308 | -9.761022 | 0.000002 | 0.000051\n",
            "9 | -3.000000 | -2.191308 | -2.191308 | -9.761022 | 0.000000 | 0.000009\n"
          ],
          "name": "stdout"
        }
      ]
    }
  ]
}