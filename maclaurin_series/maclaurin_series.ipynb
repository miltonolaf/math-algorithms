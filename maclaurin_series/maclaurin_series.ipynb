{
  "nbformat": 4,
  "nbformat_minor": 0,
  "metadata": {
    "colab": {
      "name": "maclaurin_series.ipynb",
      "version": "0.3.2",
      "provenance": [],
      "include_colab_link": true
    },
    "kernelspec": {
      "name": "python3",
      "display_name": "Python 3"
    }
  },
  "cells": [
    {
      "cell_type": "markdown",
      "metadata": {
        "id": "view-in-github",
        "colab_type": "text"
      },
      "source": [
        "<a href=\"https://colab.research.google.com/github/miltonolaf/snippets.ipynb/blob/master/maclaurin_series/maclaurin_series.ipynb\" target=\"_parent\"><img src=\"https://colab.research.google.com/assets/colab-badge.svg\" alt=\"Open In Colab\"/></a>"
      ]
    },
    {
      "metadata": {
        "id": "h4LcfZjzdxWU",
        "colab_type": "text"
      },
      "cell_type": "markdown",
      "source": [
        "# Maclaurin series"
      ]
    },
    {
      "metadata": {
        "id": "wlAtVAiyedPp",
        "colab_type": "text"
      },
      "cell_type": "markdown",
      "source": [
        "## e^x\n",
        "![e^c](http://wiki.ubc.ca/images/math/2/b/8/2b87b0346524eed99d4f665c5f3f653d.png)"
      ]
    },
    {
      "metadata": {
        "id": "BHATvTzlehvL",
        "colab_type": "text"
      },
      "cell_type": "markdown",
      "source": [
        "Exec. e^2"
      ]
    },
    {
      "metadata": {
        "id": "53moCsYcd16X",
        "colab_type": "code",
        "colab": {}
      },
      "cell_type": "code",
      "source": [
        "import math"
      ],
      "execution_count": 0,
      "outputs": []
    },
    {
      "metadata": {
        "id": "pCRxFFxlewvg",
        "colab_type": "code",
        "colab": {}
      },
      "cell_type": "code",
      "source": [
        "def maclaurin_exp(k, threshold):\n",
        "  prev_value = 0\n",
        "  current_value = 1\n",
        "  i = 1\n",
        "  \n",
        "  while current_value > threshold:\n",
        "    prev_value += current_value\n",
        "    current_value = (k**i) / math.factorial(i)\n",
        "    i = i+1\n",
        "\n",
        "  return prev_value"
      ],
      "execution_count": 0,
      "outputs": []
    },
    {
      "metadata": {
        "id": "Bt1dYJC-n4sA",
        "colab_type": "code",
        "outputId": "6928e22d-5674-4c18-c88d-4203ae849f60",
        "colab": {
          "base_uri": "https://localhost:8080/",
          "height": 35
        }
      },
      "cell_type": "code",
      "source": [
        "exp_2 = maclaurin_exp(2, 0.00001)\n",
        "print(exp_2)"
      ],
      "execution_count": 5,
      "outputs": [
        {
          "output_type": "stream",
          "text": [
            "7.389046015712681\n"
          ],
          "name": "stdout"
        }
      ]
    },
    {
      "metadata": {
        "id": "5JolqDAspeLM",
        "colab_type": "text"
      },
      "cell_type": "markdown",
      "source": [
        "\n",
        "\n",
        "---\n",
        "\n",
        "\n",
        "e^2 with errors"
      ]
    },
    {
      "metadata": {
        "id": "U_PxKgVtocDD",
        "colab_type": "code",
        "colab": {}
      },
      "cell_type": "code",
      "source": [
        "def maclaurin_exp_error(k, threshold, true_value):\n",
        "  prev_value = 0\n",
        "  current_value = 1\n",
        "  i = 1\n",
        "  \n",
        "  while current_value > threshold:\n",
        "    prev_value_a = prev_value\n",
        "    prev_value += current_value\n",
        "    current_value = (k**i) / math.factorial(i)\n",
        "    \n",
        "    error_t = ((true_value - prev_value) / true_value) * 100\n",
        "    error_a = ((prev_value - prev_value_a) / prev_value) * 100\n",
        "    print(\"%i | %f | %f | %f\" % (i, prev_value, error_t, error_a))\n",
        "    \n",
        "    i = i+1"
      ],
      "execution_count": 0,
      "outputs": []
    },
    {
      "metadata": {
        "id": "2kqCwHoRtrzR",
        "colab_type": "code",
        "outputId": "09d6aec6-221b-41a0-a3c3-10d77922d2b0",
        "colab": {
          "base_uri": "https://localhost:8080/",
          "height": 233
        }
      },
      "cell_type": "code",
      "source": [
        "maclaurin_exp_error(2, 0.00001, exp_2)"
      ],
      "execution_count": 10,
      "outputs": [
        {
          "output_type": "stream",
          "text": [
            "1 | 1.000000 | 86.466453 | 100.000000\n",
            "2 | 3.000000 | 59.399360 | 66.666667\n",
            "3 | 5.000000 | 32.332266 | 40.000000\n",
            "4 | 6.333333 | 14.287537 | 21.052632\n",
            "5 | 7.000000 | 5.265172 | 9.523810\n",
            "6 | 7.266667 | 1.656227 | 3.669725\n",
            "7 | 7.355556 | 0.453245 | 1.208459\n",
            "8 | 7.380952 | 0.109536 | 0.344086\n",
            "9 | 7.387302 | 0.023608 | 0.085948\n",
            "10 | 7.388713 | 0.004513 | 0.019096\n",
            "11 | 7.388995 | 0.000694 | 0.003819\n",
            "12 | 7.389046 | 0.000000 | 0.000694\n"
          ],
          "name": "stdout"
        }
      ]
    }
  ]
}